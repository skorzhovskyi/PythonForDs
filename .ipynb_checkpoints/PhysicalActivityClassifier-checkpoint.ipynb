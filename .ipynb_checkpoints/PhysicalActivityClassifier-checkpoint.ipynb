{
 "cells": [
  {
   "cell_type": "markdown",
   "id": "a3d59736",
   "metadata": {},
   "source": [
    "### Import libraries"
   ]
  },
  {
   "cell_type": "code",
   "execution_count": 244,
   "id": "07c99ce1",
   "metadata": {},
   "outputs": [],
   "source": [
    "import numpy as np\n",
    "import pandas as pd\n",
    "import seaborn as sns\n",
    "import itertools\n",
    "from tqdm import tqdm_notebook as tqdm\n",
    "import pickle\n",
    "from IPython.core.display import display, HTML\n",
    "from tqdm.notebook import tqdm\n",
    "import glob\n",
    "from matplotlib import pylab as plt\n",
    "from sklearn.model_selection import train_test_split, cross_val_predict, cross_val_score\n",
    "from sklearn.ensemble import RandomForestClassifier\n",
    "from sklearn.metrics import classification_report, confusion_matrix, plot_confusion_matrix, ConfusionMatrixDisplay\n",
    "from sklearn.decomposition import PCA\n",
    "from sklearn.preprocessing import StandardScaler\n",
    "%matplotlib inline"
   ]
  },
  {
   "cell_type": "markdown",
   "id": "6a8308f7",
   "metadata": {},
   "source": [
    "### Create files dataframe"
   ]
  },
  {
   "cell_type": "code",
   "execution_count": 98,
   "id": "09009cba",
   "metadata": {},
   "outputs": [],
   "source": [
    "files_df = pd.DataFrame({'path':glob.glob('data\\\\**\\\\*.csv')}).reset_index(drop=True)\n",
    "files_df['type'] = files_df['path'].apply(lambda x: x.split('\\\\')[1])\n",
    "files_df['id'] = files_df['path'].apply(lambda x: x.split('\\\\')[-1].split('.')[0])"
   ]
  },
  {
   "cell_type": "code",
   "execution_count": 99,
   "id": "86c4da06",
   "metadata": {},
   "outputs": [
    {
     "data": {
      "text/html": [
       "<div>\n",
       "<style scoped>\n",
       "    .dataframe tbody tr th:only-of-type {\n",
       "        vertical-align: middle;\n",
       "    }\n",
       "\n",
       "    .dataframe tbody tr th {\n",
       "        vertical-align: top;\n",
       "    }\n",
       "\n",
       "    .dataframe thead th {\n",
       "        text-align: right;\n",
       "    }\n",
       "</style>\n",
       "<table border=\"1\" class=\"dataframe\">\n",
       "  <thead>\n",
       "    <tr style=\"text-align: right;\">\n",
       "      <th></th>\n",
       "      <th>path</th>\n",
       "      <th>type</th>\n",
       "      <th>id</th>\n",
       "    </tr>\n",
       "  </thead>\n",
       "  <tbody>\n",
       "    <tr>\n",
       "      <th>0</th>\n",
       "      <td>data\\idle\\idle-1.csv</td>\n",
       "      <td>idle</td>\n",
       "      <td>idle-1</td>\n",
       "    </tr>\n",
       "    <tr>\n",
       "      <th>1</th>\n",
       "      <td>data\\idle\\idle-10.csv</td>\n",
       "      <td>idle</td>\n",
       "      <td>idle-10</td>\n",
       "    </tr>\n",
       "    <tr>\n",
       "      <th>2</th>\n",
       "      <td>data\\idle\\idle-100.csv</td>\n",
       "      <td>idle</td>\n",
       "      <td>idle-100</td>\n",
       "    </tr>\n",
       "    <tr>\n",
       "      <th>3</th>\n",
       "      <td>data\\idle\\idle-1000.csv</td>\n",
       "      <td>idle</td>\n",
       "      <td>idle-1000</td>\n",
       "    </tr>\n",
       "    <tr>\n",
       "      <th>4</th>\n",
       "      <td>data\\idle\\idle-1001.csv</td>\n",
       "      <td>idle</td>\n",
       "      <td>idle-1001</td>\n",
       "    </tr>\n",
       "  </tbody>\n",
       "</table>\n",
       "</div>"
      ],
      "text/plain": [
       "                      path  type         id\n",
       "0     data\\idle\\idle-1.csv  idle     idle-1\n",
       "1    data\\idle\\idle-10.csv  idle    idle-10\n",
       "2   data\\idle\\idle-100.csv  idle   idle-100\n",
       "3  data\\idle\\idle-1000.csv  idle  idle-1000\n",
       "4  data\\idle\\idle-1001.csv  idle  idle-1001"
      ]
     },
     "execution_count": 99,
     "metadata": {},
     "output_type": "execute_result"
    }
   ],
   "source": [
    "files_df.head()"
   ]
  },
  {
   "cell_type": "code",
   "execution_count": 100,
   "id": "8e0c7229",
   "metadata": {},
   "outputs": [
    {
     "data": {
      "text/html": [
       "<div>\n",
       "<style scoped>\n",
       "    .dataframe tbody tr th:only-of-type {\n",
       "        vertical-align: middle;\n",
       "    }\n",
       "\n",
       "    .dataframe tbody tr th {\n",
       "        vertical-align: top;\n",
       "    }\n",
       "\n",
       "    .dataframe thead th {\n",
       "        text-align: right;\n",
       "    }\n",
       "</style>\n",
       "<table border=\"1\" class=\"dataframe\">\n",
       "  <thead>\n",
       "    <tr style=\"text-align: right;\">\n",
       "      <th></th>\n",
       "      <th>type</th>\n",
       "      <th>amount</th>\n",
       "    </tr>\n",
       "  </thead>\n",
       "  <tbody>\n",
       "    <tr>\n",
       "      <th>0</th>\n",
       "      <td>idle</td>\n",
       "      <td>1039</td>\n",
       "    </tr>\n",
       "    <tr>\n",
       "      <th>1</th>\n",
       "      <td>running</td>\n",
       "      <td>3408</td>\n",
       "    </tr>\n",
       "    <tr>\n",
       "      <th>2</th>\n",
       "      <td>stairs</td>\n",
       "      <td>165</td>\n",
       "    </tr>\n",
       "    <tr>\n",
       "      <th>3</th>\n",
       "      <td>walking</td>\n",
       "      <td>1850</td>\n",
       "    </tr>\n",
       "  </tbody>\n",
       "</table>\n",
       "</div>"
      ],
      "text/plain": [
       "      type  amount\n",
       "0     idle    1039\n",
       "1  running    3408\n",
       "2   stairs     165\n",
       "3  walking    1850"
      ]
     },
     "execution_count": 100,
     "metadata": {},
     "output_type": "execute_result"
    }
   ],
   "source": [
    "files_df.groupby('type').size().reset_index(name='amount')"
   ]
  },
  {
   "cell_type": "markdown",
   "id": "db20fa9d",
   "metadata": {},
   "source": [
    "### Create dataframe containing all files"
   ]
  },
  {
   "cell_type": "code",
   "execution_count": 208,
   "id": "c2ec394c",
   "metadata": {},
   "outputs": [],
   "source": [
    "def CreateDF(files):\n",
    "    data_samples = []\n",
    "\n",
    "    for arg in tqdm(files.values):\n",
    "        sample = pd.read_csv(arg[0])\n",
    "\n",
    "        assert len(sample) == 30\n",
    "\n",
    "        sample['id'] = arg[2]\n",
    "        sample['sub_id'] = np.arange(30)\n",
    "        sample['type'] = arg[1]\n",
    "\n",
    "        data_samples.append(sample)\n",
    "    \n",
    "    return pd.concat(data_samples, axis=0, sort=False)"
   ]
  },
  {
   "cell_type": "code",
   "execution_count": 209,
   "id": "72fabfc8",
   "metadata": {},
   "outputs": [
    {
     "data": {
      "application/vnd.jupyter.widget-view+json": {
       "model_id": "8dbd4b90313a4f419d3cec9b37fb1f9c",
       "version_major": 2,
       "version_minor": 0
      },
      "text/plain": [
       "  0%|          | 0/6462 [00:00<?, ?it/s]"
      ]
     },
     "metadata": {},
     "output_type": "display_data"
    }
   ],
   "source": [
    "data_df = CreateDF(files_df)"
   ]
  },
  {
   "cell_type": "code",
   "execution_count": 210,
   "id": "ecdfa220",
   "metadata": {},
   "outputs": [
    {
     "data": {
      "text/html": [
       "<div>\n",
       "<style scoped>\n",
       "    .dataframe tbody tr th:only-of-type {\n",
       "        vertical-align: middle;\n",
       "    }\n",
       "\n",
       "    .dataframe tbody tr th {\n",
       "        vertical-align: top;\n",
       "    }\n",
       "\n",
       "    .dataframe thead th {\n",
       "        text-align: right;\n",
       "    }\n",
       "</style>\n",
       "<table border=\"1\" class=\"dataframe\">\n",
       "  <thead>\n",
       "    <tr style=\"text-align: right;\">\n",
       "      <th></th>\n",
       "      <th>accelerometer_X</th>\n",
       "      <th>accelerometer_Y</th>\n",
       "      <th>accelerometer_Z</th>\n",
       "      <th>id</th>\n",
       "      <th>sub_id</th>\n",
       "      <th>type</th>\n",
       "    </tr>\n",
       "  </thead>\n",
       "  <tbody>\n",
       "    <tr>\n",
       "      <th>0</th>\n",
       "      <td>1.000776</td>\n",
       "      <td>4.616021</td>\n",
       "      <td>8.576031</td>\n",
       "      <td>idle-1</td>\n",
       "      <td>0</td>\n",
       "      <td>idle</td>\n",
       "    </tr>\n",
       "    <tr>\n",
       "      <th>1</th>\n",
       "      <td>0.718261</td>\n",
       "      <td>4.209007</td>\n",
       "      <td>8.446744</td>\n",
       "      <td>idle-1</td>\n",
       "      <td>1</td>\n",
       "      <td>idle</td>\n",
       "    </tr>\n",
       "    <tr>\n",
       "      <th>2</th>\n",
       "      <td>-0.909797</td>\n",
       "      <td>-0.282516</td>\n",
       "      <td>9.203311</td>\n",
       "      <td>idle-1</td>\n",
       "      <td>2</td>\n",
       "      <td>idle</td>\n",
       "    </tr>\n",
       "    <tr>\n",
       "      <th>3</th>\n",
       "      <td>5.099650</td>\n",
       "      <td>0.148441</td>\n",
       "      <td>8.418014</td>\n",
       "      <td>idle-1</td>\n",
       "      <td>3</td>\n",
       "      <td>idle</td>\n",
       "    </tr>\n",
       "    <tr>\n",
       "      <th>4</th>\n",
       "      <td>1.762132</td>\n",
       "      <td>-0.162806</td>\n",
       "      <td>9.251195</td>\n",
       "      <td>idle-1</td>\n",
       "      <td>4</td>\n",
       "      <td>idle</td>\n",
       "    </tr>\n",
       "  </tbody>\n",
       "</table>\n",
       "</div>"
      ],
      "text/plain": [
       "   accelerometer_X  accelerometer_Y  accelerometer_Z      id  sub_id  type\n",
       "0         1.000776         4.616021         8.576031  idle-1       0  idle\n",
       "1         0.718261         4.209007         8.446744  idle-1       1  idle\n",
       "2        -0.909797        -0.282516         9.203311  idle-1       2  idle\n",
       "3         5.099650         0.148441         8.418014  idle-1       3  idle\n",
       "4         1.762132        -0.162806         9.251195  idle-1       4  idle"
      ]
     },
     "execution_count": 210,
     "metadata": {},
     "output_type": "execute_result"
    }
   ],
   "source": [
    "data_df.head()"
   ]
  },
  {
   "cell_type": "markdown",
   "id": "1b759050",
   "metadata": {},
   "source": [
    "### Check dataframe statistics"
   ]
  },
  {
   "cell_type": "code",
   "execution_count": 124,
   "id": "1523b874",
   "metadata": {},
   "outputs": [
    {
     "name": "stdout",
     "output_type": "stream",
     "text": [
      "<class 'pandas.core.frame.DataFrame'>\n",
      "Int64Index: 193860 entries, 0 to 29\n",
      "Data columns (total 6 columns):\n",
      " #   Column           Non-Null Count   Dtype  \n",
      "---  ------           --------------   -----  \n",
      " 0   accelerometer_X  193860 non-null  float64\n",
      " 1   accelerometer_Y  193860 non-null  float64\n",
      " 2   accelerometer_Z  193860 non-null  float64\n",
      " 3   id               193860 non-null  object \n",
      " 4   sub_id           193860 non-null  int32  \n",
      " 5   type             193860 non-null  object \n",
      "dtypes: float64(3), int32(1), object(2)\n",
      "memory usage: 9.6+ MB\n"
     ]
    }
   ],
   "source": [
    "data_df.info()"
   ]
  },
  {
   "cell_type": "markdown",
   "id": "b5f946dd",
   "metadata": {},
   "source": [
    "<i>Data has no NA's</i>"
   ]
  },
  {
   "cell_type": "code",
   "execution_count": 125,
   "id": "18d06457",
   "metadata": {},
   "outputs": [
    {
     "data": {
      "text/html": [
       "<div>\n",
       "<style scoped>\n",
       "    .dataframe tbody tr th:only-of-type {\n",
       "        vertical-align: middle;\n",
       "    }\n",
       "\n",
       "    .dataframe tbody tr th {\n",
       "        vertical-align: top;\n",
       "    }\n",
       "\n",
       "    .dataframe thead th {\n",
       "        text-align: right;\n",
       "    }\n",
       "</style>\n",
       "<table border=\"1\" class=\"dataframe\">\n",
       "  <thead>\n",
       "    <tr style=\"text-align: right;\">\n",
       "      <th></th>\n",
       "      <th>count</th>\n",
       "      <th>mean</th>\n",
       "      <th>std</th>\n",
       "      <th>min</th>\n",
       "      <th>25%</th>\n",
       "      <th>50%</th>\n",
       "      <th>75%</th>\n",
       "      <th>max</th>\n",
       "    </tr>\n",
       "  </thead>\n",
       "  <tbody>\n",
       "    <tr>\n",
       "      <th>accelerometer_X</th>\n",
       "      <td>193860.0</td>\n",
       "      <td>1.923550</td>\n",
       "      <td>8.404867</td>\n",
       "      <td>-39.188293</td>\n",
       "      <td>-2.494758</td>\n",
       "      <td>0.248997</td>\n",
       "      <td>4.668694</td>\n",
       "      <td>39.188293</td>\n",
       "    </tr>\n",
       "    <tr>\n",
       "      <th>accelerometer_Y</th>\n",
       "      <td>193860.0</td>\n",
       "      <td>1.598343</td>\n",
       "      <td>12.474041</td>\n",
       "      <td>-39.188293</td>\n",
       "      <td>-8.327033</td>\n",
       "      <td>-0.009577</td>\n",
       "      <td>8.671799</td>\n",
       "      <td>39.188293</td>\n",
       "    </tr>\n",
       "    <tr>\n",
       "      <th>accelerometer_Z</th>\n",
       "      <td>193860.0</td>\n",
       "      <td>1.804896</td>\n",
       "      <td>7.191590</td>\n",
       "      <td>-39.188293</td>\n",
       "      <td>-2.494758</td>\n",
       "      <td>0.905008</td>\n",
       "      <td>7.187394</td>\n",
       "      <td>39.188293</td>\n",
       "    </tr>\n",
       "    <tr>\n",
       "      <th>sub_id</th>\n",
       "      <td>193860.0</td>\n",
       "      <td>14.500000</td>\n",
       "      <td>8.655464</td>\n",
       "      <td>0.000000</td>\n",
       "      <td>7.000000</td>\n",
       "      <td>14.500000</td>\n",
       "      <td>22.000000</td>\n",
       "      <td>29.000000</td>\n",
       "    </tr>\n",
       "  </tbody>\n",
       "</table>\n",
       "</div>"
      ],
      "text/plain": [
       "                    count       mean        std        min       25%  \\\n",
       "accelerometer_X  193860.0   1.923550   8.404867 -39.188293 -2.494758   \n",
       "accelerometer_Y  193860.0   1.598343  12.474041 -39.188293 -8.327033   \n",
       "accelerometer_Z  193860.0   1.804896   7.191590 -39.188293 -2.494758   \n",
       "sub_id           193860.0  14.500000   8.655464   0.000000  7.000000   \n",
       "\n",
       "                       50%        75%        max  \n",
       "accelerometer_X   0.248997   4.668694  39.188293  \n",
       "accelerometer_Y  -0.009577   8.671799  39.188293  \n",
       "accelerometer_Z   0.905008   7.187394  39.188293  \n",
       "sub_id           14.500000  22.000000  29.000000  "
      ]
     },
     "execution_count": 125,
     "metadata": {},
     "output_type": "execute_result"
    }
   ],
   "source": [
    "data_df.describe().T"
   ]
  },
  {
   "cell_type": "code",
   "execution_count": 126,
   "id": "3f8cb46a",
   "metadata": {},
   "outputs": [
    {
     "data": {
      "text/html": [
       "<div>\n",
       "<style scoped>\n",
       "    .dataframe tbody tr th:only-of-type {\n",
       "        vertical-align: middle;\n",
       "    }\n",
       "\n",
       "    .dataframe tbody tr th {\n",
       "        vertical-align: top;\n",
       "    }\n",
       "\n",
       "    .dataframe thead th {\n",
       "        text-align: right;\n",
       "    }\n",
       "</style>\n",
       "<table border=\"1\" class=\"dataframe\">\n",
       "  <thead>\n",
       "    <tr style=\"text-align: right;\">\n",
       "      <th></th>\n",
       "      <th>type</th>\n",
       "      <th>idle</th>\n",
       "      <th>running</th>\n",
       "      <th>stairs</th>\n",
       "      <th>walking</th>\n",
       "    </tr>\n",
       "  </thead>\n",
       "  <tbody>\n",
       "    <tr>\n",
       "      <th rowspan=\"8\" valign=\"top\">accelerometer_X</th>\n",
       "      <th>count</th>\n",
       "      <td>31170.000000</td>\n",
       "      <td>102240.000000</td>\n",
       "      <td>4950.000000</td>\n",
       "      <td>55500.000000</td>\n",
       "    </tr>\n",
       "    <tr>\n",
       "      <th>mean</th>\n",
       "      <td>0.096767</td>\n",
       "      <td>5.045705</td>\n",
       "      <td>0.353135</td>\n",
       "      <td>-2.661943</td>\n",
       "    </tr>\n",
       "    <tr>\n",
       "      <th>std</th>\n",
       "      <td>0.691892</td>\n",
       "      <td>9.952696</td>\n",
       "      <td>3.845949</td>\n",
       "      <td>4.648378</td>\n",
       "    </tr>\n",
       "    <tr>\n",
       "      <th>min</th>\n",
       "      <td>-10.448297</td>\n",
       "      <td>-39.188293</td>\n",
       "      <td>-11.238382</td>\n",
       "      <td>-26.815060</td>\n",
       "    </tr>\n",
       "    <tr>\n",
       "      <th>25%</th>\n",
       "      <td>-0.110133</td>\n",
       "      <td>-1.532289</td>\n",
       "      <td>-1.857900</td>\n",
       "      <td>-4.855441</td>\n",
       "    </tr>\n",
       "    <tr>\n",
       "      <th>50%</th>\n",
       "      <td>0.234632</td>\n",
       "      <td>3.605668</td>\n",
       "      <td>0.483629</td>\n",
       "      <td>-2.298433</td>\n",
       "    </tr>\n",
       "    <tr>\n",
       "      <th>75%</th>\n",
       "      <td>0.277727</td>\n",
       "      <td>9.595961</td>\n",
       "      <td>2.600103</td>\n",
       "      <td>-0.229843</td>\n",
       "    </tr>\n",
       "    <tr>\n",
       "      <th>max</th>\n",
       "      <td>8.135497</td>\n",
       "      <td>39.188293</td>\n",
       "      <td>14.164097</td>\n",
       "      <td>20.575770</td>\n",
       "    </tr>\n",
       "    <tr>\n",
       "      <th rowspan=\"8\" valign=\"top\">accelerometer_Y</th>\n",
       "      <th>count</th>\n",
       "      <td>31170.000000</td>\n",
       "      <td>102240.000000</td>\n",
       "      <td>4950.000000</td>\n",
       "      <td>55500.000000</td>\n",
       "    </tr>\n",
       "    <tr>\n",
       "      <th>mean</th>\n",
       "      <td>2.225971</td>\n",
       "      <td>8.083135</td>\n",
       "      <td>-9.574353</td>\n",
       "      <td>-9.703702</td>\n",
       "    </tr>\n",
       "    <tr>\n",
       "      <th>std</th>\n",
       "      <td>2.821235</td>\n",
       "      <td>12.441402</td>\n",
       "      <td>4.922294</td>\n",
       "      <td>5.931165</td>\n",
       "    </tr>\n",
       "    <tr>\n",
       "      <th>min</th>\n",
       "      <td>-2.595315</td>\n",
       "      <td>-39.188293</td>\n",
       "      <td>-25.828648</td>\n",
       "      <td>-39.188293</td>\n",
       "    </tr>\n",
       "    <tr>\n",
       "      <th>25%</th>\n",
       "      <td>-0.028730</td>\n",
       "      <td>-0.742202</td>\n",
       "      <td>-12.253524</td>\n",
       "      <td>-13.369223</td>\n",
       "    </tr>\n",
       "    <tr>\n",
       "      <th>50%</th>\n",
       "      <td>0.028730</td>\n",
       "      <td>7.967903</td>\n",
       "      <td>-8.944737</td>\n",
       "      <td>-9.974244</td>\n",
       "    </tr>\n",
       "    <tr>\n",
       "      <th>75%</th>\n",
       "      <td>5.310340</td>\n",
       "      <td>16.385916</td>\n",
       "      <td>-6.301539</td>\n",
       "      <td>-6.540959</td>\n",
       "    </tr>\n",
       "    <tr>\n",
       "      <th>max</th>\n",
       "      <td>9.916783</td>\n",
       "      <td>39.188293</td>\n",
       "      <td>4.994305</td>\n",
       "      <td>14.441825</td>\n",
       "    </tr>\n",
       "    <tr>\n",
       "      <th rowspan=\"8\" valign=\"top\">accelerometer_Z</th>\n",
       "      <th>count</th>\n",
       "      <td>31170.000000</td>\n",
       "      <td>102240.000000</td>\n",
       "      <td>4950.000000</td>\n",
       "      <td>55500.000000</td>\n",
       "    </tr>\n",
       "    <tr>\n",
       "      <th>mean</th>\n",
       "      <td>8.973247</td>\n",
       "      <td>1.387356</td>\n",
       "      <td>-1.841333</td>\n",
       "      <td>-1.126623</td>\n",
       "    </tr>\n",
       "    <tr>\n",
       "      <th>std</th>\n",
       "      <td>1.211058</td>\n",
       "      <td>7.004236</td>\n",
       "      <td>5.297376</td>\n",
       "      <td>6.927679</td>\n",
       "    </tr>\n",
       "    <tr>\n",
       "      <th>min</th>\n",
       "      <td>-0.296881</td>\n",
       "      <td>-39.188293</td>\n",
       "      <td>-38.086960</td>\n",
       "      <td>-39.169140</td>\n",
       "    </tr>\n",
       "    <tr>\n",
       "      <th>25%</th>\n",
       "      <td>8.116344</td>\n",
       "      <td>-2.873042</td>\n",
       "      <td>-3.797204</td>\n",
       "      <td>-3.428497</td>\n",
       "    </tr>\n",
       "    <tr>\n",
       "      <th>50%</th>\n",
       "      <td>9.749189</td>\n",
       "      <td>0.407014</td>\n",
       "      <td>-1.589750</td>\n",
       "      <td>-0.933739</td>\n",
       "    </tr>\n",
       "    <tr>\n",
       "      <th>75%</th>\n",
       "      <td>9.773131</td>\n",
       "      <td>4.769250</td>\n",
       "      <td>0.292093</td>\n",
       "      <td>1.561020</td>\n",
       "    </tr>\n",
       "    <tr>\n",
       "      <th>max</th>\n",
       "      <td>21.988348</td>\n",
       "      <td>39.188293</td>\n",
       "      <td>17.492037</td>\n",
       "      <td>38.426937</td>\n",
       "    </tr>\n",
       "    <tr>\n",
       "      <th rowspan=\"8\" valign=\"top\">sub_id</th>\n",
       "      <th>count</th>\n",
       "      <td>31170.000000</td>\n",
       "      <td>102240.000000</td>\n",
       "      <td>4950.000000</td>\n",
       "      <td>55500.000000</td>\n",
       "    </tr>\n",
       "    <tr>\n",
       "      <th>mean</th>\n",
       "      <td>14.500000</td>\n",
       "      <td>14.500000</td>\n",
       "      <td>14.500000</td>\n",
       "      <td>14.500000</td>\n",
       "    </tr>\n",
       "    <tr>\n",
       "      <th>std</th>\n",
       "      <td>8.655580</td>\n",
       "      <td>8.655484</td>\n",
       "      <td>8.656316</td>\n",
       "      <td>8.655519</td>\n",
       "    </tr>\n",
       "    <tr>\n",
       "      <th>min</th>\n",
       "      <td>0.000000</td>\n",
       "      <td>0.000000</td>\n",
       "      <td>0.000000</td>\n",
       "      <td>0.000000</td>\n",
       "    </tr>\n",
       "    <tr>\n",
       "      <th>25%</th>\n",
       "      <td>7.000000</td>\n",
       "      <td>7.000000</td>\n",
       "      <td>7.000000</td>\n",
       "      <td>7.000000</td>\n",
       "    </tr>\n",
       "    <tr>\n",
       "      <th>50%</th>\n",
       "      <td>14.500000</td>\n",
       "      <td>14.500000</td>\n",
       "      <td>14.500000</td>\n",
       "      <td>14.500000</td>\n",
       "    </tr>\n",
       "    <tr>\n",
       "      <th>75%</th>\n",
       "      <td>22.000000</td>\n",
       "      <td>22.000000</td>\n",
       "      <td>22.000000</td>\n",
       "      <td>22.000000</td>\n",
       "    </tr>\n",
       "    <tr>\n",
       "      <th>max</th>\n",
       "      <td>29.000000</td>\n",
       "      <td>29.000000</td>\n",
       "      <td>29.000000</td>\n",
       "      <td>29.000000</td>\n",
       "    </tr>\n",
       "  </tbody>\n",
       "</table>\n",
       "</div>"
      ],
      "text/plain": [
       "type                           idle        running       stairs       walking\n",
       "accelerometer_X count  31170.000000  102240.000000  4950.000000  55500.000000\n",
       "                mean       0.096767       5.045705     0.353135     -2.661943\n",
       "                std        0.691892       9.952696     3.845949      4.648378\n",
       "                min      -10.448297     -39.188293   -11.238382    -26.815060\n",
       "                25%       -0.110133      -1.532289    -1.857900     -4.855441\n",
       "                50%        0.234632       3.605668     0.483629     -2.298433\n",
       "                75%        0.277727       9.595961     2.600103     -0.229843\n",
       "                max        8.135497      39.188293    14.164097     20.575770\n",
       "accelerometer_Y count  31170.000000  102240.000000  4950.000000  55500.000000\n",
       "                mean       2.225971       8.083135    -9.574353     -9.703702\n",
       "                std        2.821235      12.441402     4.922294      5.931165\n",
       "                min       -2.595315     -39.188293   -25.828648    -39.188293\n",
       "                25%       -0.028730      -0.742202   -12.253524    -13.369223\n",
       "                50%        0.028730       7.967903    -8.944737     -9.974244\n",
       "                75%        5.310340      16.385916    -6.301539     -6.540959\n",
       "                max        9.916783      39.188293     4.994305     14.441825\n",
       "accelerometer_Z count  31170.000000  102240.000000  4950.000000  55500.000000\n",
       "                mean       8.973247       1.387356    -1.841333     -1.126623\n",
       "                std        1.211058       7.004236     5.297376      6.927679\n",
       "                min       -0.296881     -39.188293   -38.086960    -39.169140\n",
       "                25%        8.116344      -2.873042    -3.797204     -3.428497\n",
       "                50%        9.749189       0.407014    -1.589750     -0.933739\n",
       "                75%        9.773131       4.769250     0.292093      1.561020\n",
       "                max       21.988348      39.188293    17.492037     38.426937\n",
       "sub_id          count  31170.000000  102240.000000  4950.000000  55500.000000\n",
       "                mean      14.500000      14.500000    14.500000     14.500000\n",
       "                std        8.655580       8.655484     8.656316      8.655519\n",
       "                min        0.000000       0.000000     0.000000      0.000000\n",
       "                25%        7.000000       7.000000     7.000000      7.000000\n",
       "                50%       14.500000      14.500000    14.500000     14.500000\n",
       "                75%       22.000000      22.000000    22.000000     22.000000\n",
       "                max       29.000000      29.000000    29.000000     29.000000"
      ]
     },
     "execution_count": 126,
     "metadata": {},
     "output_type": "execute_result"
    }
   ],
   "source": [
    "data_df.groupby('type').describe().T"
   ]
  },
  {
   "cell_type": "code",
   "execution_count": 63,
   "id": "c5c44a3c",
   "metadata": {},
   "outputs": [
    {
     "data": {
      "image/png": "[encoded data removed]",
      "text/plain": [
       "<Figure size 1728x864 with 3 Axes>"
      ]
     },
     "metadata": {
      "needs_background": "light"
     },
     "output_type": "display_data"
    }
   ],
   "source": [
    "fig=plt.figure(figsize=(24,12))\n",
    "ax1=fig.add_subplot(131)\n",
    "ax1=sns.stripplot(x='type',y='accelerometer_X',data=data_df,jitter=True)\n",
    "\n",
    "ax2=fig.add_subplot(132)\n",
    "ax2=sns.stripplot(x='type',y='accelerometer_Y',data=data_df,jitter=True)\n",
    "\n",
    "ax3=fig.add_subplot(133)\n",
    "ax3=sns.stripplot(x='type',y='accelerometer_Z',data=data_df,jitter=True)\n",
    "\n",
    "plt.show()"
   ]
  },
  {
   "cell_type": "markdown",
   "id": "f845c1ea",
   "metadata": {},
   "source": [
    "<i>Data contains outliers</i>"
   ]
  },
  {
   "cell_type": "markdown",
   "id": "cca40310",
   "metadata": {},
   "source": [
    "### Train test split"
   ]
  },
  {
   "cell_type": "code",
   "execution_count": 218,
   "id": "d0c47c3a",
   "metadata": {},
   "outputs": [],
   "source": [
    "def TrainTestSplit(df):\n",
    "    train_df, test_df = train_test_split(df, test_size=0.1, stratify=df['type'], random_state=0)\n",
    "    print('Train size: {}\\nTest size: {}'.format(len(train_df), len(test_df)))\n",
    "    return train_df, test_df"
   ]
  },
  {
   "cell_type": "code",
   "execution_count": 219,
   "id": "51038447",
   "metadata": {},
   "outputs": [
    {
     "name": "stdout",
     "output_type": "stream",
     "text": [
      "Train size: 5815\n",
      "Test size: 647\n"
     ]
    }
   ],
   "source": [
    "train_df_ids, test_df_ids = TrainTestSplit(files_df)"
   ]
  },
  {
   "cell_type": "code",
   "execution_count": 220,
   "id": "9b60416d",
   "metadata": {},
   "outputs": [
    {
     "data": {
      "application/vnd.jupyter.widget-view+json": {
       "model_id": "94d8cff5579a40ef94268d487b4fefe7",
       "version_major": 2,
       "version_minor": 0
      },
      "text/plain": [
       "  0%|          | 0/5815 [00:00<?, ?it/s]"
      ]
     },
     "metadata": {},
     "output_type": "display_data"
    },
    {
     "data": {
      "application/vnd.jupyter.widget-view+json": {
       "model_id": "d7eacc4d9ee549748a8ccbb61bb36591",
       "version_major": 2,
       "version_minor": 0
      },
      "text/plain": [
       "  0%|          | 0/647 [00:00<?, ?it/s]"
      ]
     },
     "metadata": {},
     "output_type": "display_data"
    }
   ],
   "source": [
    "train_df = CreateDF(train_df_ids)\n",
    "test_df = CreateDF(test_df_ids)"
   ]
  },
  {
   "cell_type": "markdown",
   "id": "a946280a",
   "metadata": {},
   "source": [
    "### Features generation"
   ]
  },
  {
   "cell_type": "markdown",
   "id": "5d65f1e3",
   "metadata": {},
   "source": [
    "<i>Take all X, Y, Z accelerometer values (3 $\\times$ 30)</i>"
   ]
  },
  {
   "cell_type": "code",
   "execution_count": 221,
   "id": "ec5a2fb9",
   "metadata": {},
   "outputs": [],
   "source": [
    "def FlattenDF(df):\n",
    "    cols = [col for col in df.columns if col.startswith('accelerometer')]\n",
    "    sub_ids = [str(i) for i in range(30)]\n",
    "    \n",
    "    flatten_DFs = []\n",
    "    for sub_df in tqdm([v for k, v in df.groupby('id')]):\n",
    "        temp = sub_df.pivot(index='id', columns='sub_id', values=cols).reset_index(drop=True)     \n",
    "        temp.columns = list(map('_'.join, itertools.product(cols, sub_ids)))\n",
    "        temp['type'] = sub_df['type'][0]\n",
    "        flatten_DFs.append(temp)\n",
    "    return pd.concat(flatten_DFs, axis=0, sort=False).reset_index(drop=True)"
   ]
  },
  {
   "cell_type": "code",
   "execution_count": 222,
   "id": "3a870088",
   "metadata": {},
   "outputs": [
    {
     "data": {
      "application/vnd.jupyter.widget-view+json": {
       "model_id": "93f4bc40ec114b5db695805656964de0",
       "version_major": 2,
       "version_minor": 0
      },
      "text/plain": [
       "  0%|          | 0/5815 [00:00<?, ?it/s]"
      ]
     },
     "metadata": {},
     "output_type": "display_data"
    },
    {
     "data": {
      "application/vnd.jupyter.widget-view+json": {
       "model_id": "22e8b516bce544f99feb0a4dcb3a9644",
       "version_major": 2,
       "version_minor": 0
      },
      "text/plain": [
       "  0%|          | 0/647 [00:00<?, ?it/s]"
      ]
     },
     "metadata": {},
     "output_type": "display_data"
    }
   ],
   "source": [
    "flatten_train_df = FlattenDF(train_df)\n",
    "flatten_test_df = FlattenDF(test_df)"
   ]
  },
  {
   "cell_type": "code",
   "execution_count": 226,
   "id": "ad5f8817",
   "metadata": {},
   "outputs": [
    {
     "data": {
      "text/plain": [
       "Index(['accelerometer_X_0', 'accelerometer_X_1', 'accelerometer_X_2',\n",
       "       'accelerometer_X_3', 'accelerometer_X_4', 'accelerometer_X_5',\n",
       "       'accelerometer_X_6', 'accelerometer_X_7', 'accelerometer_X_8',\n",
       "       'accelerometer_X_9', 'accelerometer_X_10', 'accelerometer_X_11',\n",
       "       'accelerometer_X_12', 'accelerometer_X_13', 'accelerometer_X_14',\n",
       "       'accelerometer_X_15', 'accelerometer_X_16', 'accelerometer_X_17',\n",
       "       'accelerometer_X_18', 'accelerometer_X_19', 'accelerometer_X_20',\n",
       "       'accelerometer_X_21', 'accelerometer_X_22', 'accelerometer_X_23',\n",
       "       'accelerometer_X_24', 'accelerometer_X_25', 'accelerometer_X_26',\n",
       "       'accelerometer_X_27', 'accelerometer_X_28', 'accelerometer_X_29',\n",
       "       'accelerometer_Y_0', 'accelerometer_Y_1', 'accelerometer_Y_2',\n",
       "       'accelerometer_Y_3', 'accelerometer_Y_4', 'accelerometer_Y_5',\n",
       "       'accelerometer_Y_6', 'accelerometer_Y_7', 'accelerometer_Y_8',\n",
       "       'accelerometer_Y_9', 'accelerometer_Y_10', 'accelerometer_Y_11',\n",
       "       'accelerometer_Y_12', 'accelerometer_Y_13', 'accelerometer_Y_14',\n",
       "       'accelerometer_Y_15', 'accelerometer_Y_16', 'accelerometer_Y_17',\n",
       "       'accelerometer_Y_18', 'accelerometer_Y_19', 'accelerometer_Y_20',\n",
       "       'accelerometer_Y_21', 'accelerometer_Y_22', 'accelerometer_Y_23',\n",
       "       'accelerometer_Y_24', 'accelerometer_Y_25', 'accelerometer_Y_26',\n",
       "       'accelerometer_Y_27', 'accelerometer_Y_28', 'accelerometer_Y_29',\n",
       "       'accelerometer_Z_0', 'accelerometer_Z_1', 'accelerometer_Z_2',\n",
       "       'accelerometer_Z_3', 'accelerometer_Z_4', 'accelerometer_Z_5',\n",
       "       'accelerometer_Z_6', 'accelerometer_Z_7', 'accelerometer_Z_8',\n",
       "       'accelerometer_Z_9', 'accelerometer_Z_10', 'accelerometer_Z_11',\n",
       "       'accelerometer_Z_12', 'accelerometer_Z_13', 'accelerometer_Z_14',\n",
       "       'accelerometer_Z_15', 'accelerometer_Z_16', 'accelerometer_Z_17',\n",
       "       'accelerometer_Z_18', 'accelerometer_Z_19', 'accelerometer_Z_20',\n",
       "       'accelerometer_Z_21', 'accelerometer_Z_22', 'accelerometer_Z_23',\n",
       "       'accelerometer_Z_24', 'accelerometer_Z_25', 'accelerometer_Z_26',\n",
       "       'accelerometer_Z_27', 'accelerometer_Z_28', 'accelerometer_Z_29',\n",
       "       'type', 'id'],\n",
       "      dtype='object')"
      ]
     },
     "execution_count": 226,
     "metadata": {},
     "output_type": "execute_result"
    }
   ],
   "source": [
    "flatten_train_df.columns"
   ]
  },
  {
   "cell_type": "markdown",
   "id": "6ae87f06",
   "metadata": {},
   "source": [
    "<i>Generate features by replacing X, Y, Z accelerometer values with their corresponding location measures (mean, std, min, 1st quartile, median, 3rd quartile, max)</i>"
   ]
  },
  {
   "cell_type": "code",
   "execution_count": 240,
   "id": "a3f3b596",
   "metadata": {},
   "outputs": [],
   "source": [
    "def first_quartile(arr):\n",
    "    return arr.quantile(0.25)\n",
    "\n",
    "def third_quartile(arr):\n",
    "    return arr.quantile(0.75)\n",
    "\n",
    "def LocationMesuresDF(df):\n",
    "    cols = [col for col in df.columns if col.startswith('accelerometer')]\n",
    "    loc_funcs = [np.mean, np.median, np.min, first_quartile, np.median, third_quartile, np.max]\n",
    "    \n",
    "    loc_mes_DFs = []\n",
    "    for sub_df in tqdm([v for k, v in df.groupby('id')]):     \n",
    "        temp = pd.DataFrame()        \n",
    "        \n",
    "        for col in cols:\n",
    "            for f in loc_funcs:\n",
    "                temp[col + '_' + f.__name__] = [f(sub_df[col])]\n",
    "                \n",
    "        temp['type'] = sub_df['type'][0]\n",
    "        loc_mes_DFs.append(temp)\n",
    "        \n",
    "    return pd.concat(loc_mes_DFs, axis=0, sort=False).reset_index(drop=True)"
   ]
  },
  {
   "cell_type": "code",
   "execution_count": 241,
   "id": "4f36dc72",
   "metadata": {},
   "outputs": [
    {
     "data": {
      "application/vnd.jupyter.widget-view+json": {
       "model_id": "bbad0c52427b474d97e4e1419b0c116c",
       "version_major": 2,
       "version_minor": 0
      },
      "text/plain": [
       "  0%|          | 0/5815 [00:00<?, ?it/s]"
      ]
     },
     "metadata": {},
     "output_type": "display_data"
    },
    {
     "data": {
      "application/vnd.jupyter.widget-view+json": {
       "model_id": "e3f506bc67284c9dbe592b2b199d5a52",
       "version_major": 2,
       "version_minor": 0
      },
      "text/plain": [
       "  0%|          | 0/647 [00:00<?, ?it/s]"
      ]
     },
     "metadata": {},
     "output_type": "display_data"
    }
   ],
   "source": [
    "loc_mes_train_df = LocationMesuresDF(train_df)\n",
    "loc_mes_test_df = LocationMesuresDF(test_df)"
   ]
  },
  {
   "cell_type": "code",
   "execution_count": 242,
   "id": "51e2ee53",
   "metadata": {},
   "outputs": [
    {
     "data": {
      "text/plain": [
       "Index(['accelerometer_X_mean', 'accelerometer_X_median',\n",
       "       'accelerometer_X_amin', 'accelerometer_X_first_quartile',\n",
       "       'accelerometer_X_third_quartile', 'accelerometer_X_amax',\n",
       "       'accelerometer_Y_mean', 'accelerometer_Y_median',\n",
       "       'accelerometer_Y_amin', 'accelerometer_Y_first_quartile',\n",
       "       'accelerometer_Y_third_quartile', 'accelerometer_Y_amax',\n",
       "       'accelerometer_Z_mean', 'accelerometer_Z_median',\n",
       "       'accelerometer_Z_amin', 'accelerometer_Z_first_quartile',\n",
       "       'accelerometer_Z_third_quartile', 'accelerometer_Z_amax', 'type'],\n",
       "      dtype='object')"
      ]
     },
     "execution_count": 242,
     "metadata": {},
     "output_type": "execute_result"
    }
   ],
   "source": [
    "loc_mes_train_df.columns"
   ]
  },
  {
   "cell_type": "markdown",
   "id": "1d39177b",
   "metadata": {},
   "source": [
    "<i>Generate features by applying PCA to each data sample</i>"
   ]
  },
  {
   "cell_type": "code",
   "execution_count": 270,
   "id": "2efdf7e2",
   "metadata": {},
   "outputs": [],
   "source": [
    "def ReducedDimensionDF(df, newDim):\n",
    "    assert newDim == 1 or newDim == 2\n",
    "    \n",
    "    if newDim == 1:\n",
    "        suffixes = ['']\n",
    "    else:\n",
    "        suffixes = ['_u', '_v']\n",
    "    \n",
    "    cols = [col for col in df.columns if col.startswith('accelerometer')]\n",
    " \n",
    "    reduced_dim_DFs = []\n",
    "    \n",
    "    explained_variances = []\n",
    "    \n",
    "    for sub_df in tqdm([v for k, v in df.groupby('id')]):     \n",
    "        temp = pd.DataFrame()        \n",
    "        raw_data = sub_df.drop(['id', 'sub_id', 'type'], axis=1).to_numpy()\n",
    "        pca = PCA(n_components=newDim)\n",
    "        pca_data = pca.fit_transform(raw_data)\n",
    "        \n",
    "        for i, suf in enumerate(suffixes):\n",
    "            temp['accelerometer' + suf] = pca_data[:,i]\n",
    "        \n",
    "        explained_variances.append(np.sum(pca.explained_variance_ratio_))\n",
    "        \n",
    "        temp['type'] = sub_df['type'][0]\n",
    "        reduced_dim_DFs.append(temp)\n",
    "        \n",
    "    print('Explained variance ratios mean:', np.mean(explained_variances))\n",
    "        \n",
    "    return pd.concat(reduced_dim_DFs, axis=0, sort=False).reset_index(drop=True)"
   ]
  },
  {
   "cell_type": "code",
   "execution_count": null,
   "id": "48cd90d2",
   "metadata": {},
   "outputs": [],
   "source": [
    "def PlotAccelerometerData2D(df):\n",
    "    "
   ]
  },
  {
   "cell_type": "code",
   "execution_count": 271,
   "id": "88d68851",
   "metadata": {},
   "outputs": [
    {
     "data": {
      "application/vnd.jupyter.widget-view+json": {
       "model_id": "c23439c0cbb748caaabb0acb676b9dfa",
       "version_major": 2,
       "version_minor": 0
      },
      "text/plain": [
       "  0%|          | 0/5815 [00:00<?, ?it/s]"
      ]
     },
     "metadata": {},
     "output_type": "display_data"
    },
    {
     "name": "stdout",
     "output_type": "stream",
     "text": [
      "Explained variance ratios mean: 0.9018696348562061\n"
     ]
    },
    {
     "data": {
      "application/vnd.jupyter.widget-view+json": {
       "model_id": "fdf8dbe4ee9a4bf2a19faa741cff20ba",
       "version_major": 2,
       "version_minor": 0
      },
      "text/plain": [
       "  0%|          | 0/647 [00:00<?, ?it/s]"
      ]
     },
     "metadata": {},
     "output_type": "display_data"
    },
    {
     "name": "stdout",
     "output_type": "stream",
     "text": [
      "Explained variance ratios mean: 0.9050678259441377\n"
     ]
    }
   ],
   "source": [
    "pca_2d_train_df = ReducedDimensionDF(train_df, 2)\n",
    "pca_2d_test_df = ReducedDimensionDF(test_df, 2)"
   ]
  },
  {
   "cell_type": "code",
   "execution_count": 263,
   "id": "16944ef2",
   "metadata": {},
   "outputs": [
    {
     "data": {
      "text/plain": [
       "Index(['accelerometer_u', 'accelerometer_v', 'type'], dtype='object')"
      ]
     },
     "execution_count": 263,
     "metadata": {},
     "output_type": "execute_result"
    }
   ],
   "source": [
    "pca_2d_train_df.columns"
   ]
  },
  {
   "cell_type": "code",
   "execution_count": 273,
   "id": "b1a3ff98",
   "metadata": {},
   "outputs": [
    {
     "data": {
      "application/vnd.jupyter.widget-view+json": {
       "model_id": "72cebdb86ea043a19a7b4017444f347c",
       "version_major": 2,
       "version_minor": 0
      },
      "text/plain": [
       "  0%|          | 0/5815 [00:00<?, ?it/s]"
      ]
     },
     "metadata": {},
     "output_type": "display_data"
    },
    {
     "name": "stdout",
     "output_type": "stream",
     "text": [
      "Explained variance ratios mean: 0.6782962080475652\n"
     ]
    },
    {
     "data": {
      "application/vnd.jupyter.widget-view+json": {
       "model_id": "5fb1e04f3a41408695a319eab1579da4",
       "version_major": 2,
       "version_minor": 0
      },
      "text/plain": [
       "  0%|          | 0/647 [00:00<?, ?it/s]"
      ]
     },
     "metadata": {},
     "output_type": "display_data"
    },
    {
     "name": "stdout",
     "output_type": "stream",
     "text": [
      "Explained variance ratios mean: 0.6817736007175288\n"
     ]
    }
   ],
   "source": [
    "pca_1d_train_df = ReducedDimensionDF(train_df, 1)\n",
    "pca_1d_test_df = ReducedDimensionDF(test_df, 1)"
   ]
  },
  {
   "cell_type": "code",
   "execution_count": 274,
   "id": "78537b03",
   "metadata": {},
   "outputs": [
    {
     "data": {
      "text/plain": [
       "Index(['accelerometer', 'type'], dtype='object')"
      ]
     },
     "execution_count": 274,
     "metadata": {},
     "output_type": "execute_result"
    }
   ],
   "source": [
    "pca_1d_train_df.columns"
   ]
  },
  {
   "cell_type": "code",
   "execution_count": null,
   "id": "71dc7b05",
   "metadata": {},
   "outputs": [],
   "source": []
  }
 ],
 "metadata": {
  "kernelspec": {
   "display_name": "Python 3 (ipykernel)",
   "language": "python",
   "name": "python3"
  },
  "language_info": {
   "codemirror_mode": {
    "name": "ipython",
    "version": 3
   },
   "file_extension": ".py",
   "mimetype": "text/x-python",
   "name": "python",
   "nbconvert_exporter": "python",
   "pygments_lexer": "ipython3",
   "version": "3.9.7"
  }
 },
 "nbformat": 4,
 "nbformat_minor": 5
}
